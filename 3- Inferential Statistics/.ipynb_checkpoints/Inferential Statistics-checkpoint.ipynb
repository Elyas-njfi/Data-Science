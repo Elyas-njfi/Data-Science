{
 "cells": [
  {
   "cell_type": "markdown",
   "id": "25388653",
   "metadata": {},
   "source": [
    "# 📈Introduction to Inferential Statistics📉\n",
    "\n",
    "In this notebook we're gonna be looking at some of the modern methods that is used in the field of inferential statistics. \n",
    "\n",
    "What we're gonna cover:\n",
    "* AB-Test\n",
    "* T-Test\n",
    "    * One sample\n",
    "    * Independent\n",
    "    * Relative\n",
    "* U-Test\n",
    "    * two-sided\n",
    "    * greater\n",
    "    * less\n",
    "* Normality Tests\n",
    "    * Shapiro\n",
    "    * Probability Plot\n",
    "* Chi2 Test\n",
    "\n",
    "## AB-Test\n",
    "Imagine someone claims that they made a medicine that can cure Covid-19!\n",
    "\n",
    "Let's suppose that we bring enough people for the experiment as samples based on MSS (Minimum Sample Size).\n",
    "\n",
    "And Let's suppose that the results would show that 80% of the sick people who used this medicine got better.\n",
    "\n",
    "Now can we claim that the medicine is 80% effective? Well no! we can't.\n",
    "\n",
    "You see, we need an indicator to compare our medicine results with.\n",
    "\n",
    "And that's when the AB-Test shows up!\n",
    "\n",
    "These people that used medicine is in the `test group (Group A)`. Now we need some people that didn't really took that medicine (or they just think that they took it) in order to actually see the difference! Let's call them `control group (Group B)`\n",
    "\n",
    "Imagine the result of Group B is 70%. \n",
    "\n",
    "Now there is a big question you gotta ask yourself: \"Is this 10% difference logical from the prespective of statistics?\" Meaning: \"We know that the results of the Group A is better by 10%. Is this difference reasonable?\"\n",
    "\n",
    "In order to be able to answer this question, we need to repeat this experiment with different random people several times! which takes a lot of time, and costs a lot of money! So in this situation, we need to somehow simulate the experiment.\n",
    "\n",
    "And that's why we use the `T-Test`\n",
    "\n",
    "## T-Test \n",
    "T-test is a really nice way to simulate your experiments several times. At the end, it would give you a parameter called `P Value`. This number shows how much T-Test thinks that the difference between groups A and B is by chance! \n",
    "\n",
    "**Note:** You need to pass these 2 conditions in order to be able to use T-Test:\n",
    "1. The data must have a normal distribution\n",
    "2. The data that is being used should be a sample of the whole data you have\n",
    " \n",
    "As I said earlier, we have 3 types of T-Test:\n",
    "* One sample\n",
    "* Independent\n",
    "* Relative\n",
    "\n",
    "We will cover each one with an example.\n",
    "\n",
    "\n",
    "### T-Test (One Sample)\n",
    "\n",
    "When do We use this type? When we want to compare a sample with the whole society\n",
    "\n",
    "Let's say some guy says that he made a Fertilizer for orange trees which can make the trees more fruitful.\n",
    "Let's figure out if he's right!\n"
   ]
  },
  {
   "cell_type": "code",
   "execution_count": 1,
   "id": "7cfbd769",
   "metadata": {},
   "outputs": [],
   "source": [
    "import numpy as np\n",
    "import pandas as pd\n",
    "import scipy.stats as stats\n",
    "import matplotlib.pyplot as plt\n",
    "import math\n",
    "import pylab"
   ]
  },
  {
   "cell_type": "code",
   "execution_count": 2,
   "id": "f870ce18",
   "metadata": {},
   "outputs": [
    {
     "data": {
      "text/html": [
       "<div>\n",
       "<style scoped>\n",
       "    .dataframe tbody tr th:only-of-type {\n",
       "        vertical-align: middle;\n",
       "    }\n",
       "\n",
       "    .dataframe tbody tr th {\n",
       "        vertical-align: top;\n",
       "    }\n",
       "\n",
       "    .dataframe thead th {\n",
       "        text-align: right;\n",
       "    }\n",
       "</style>\n",
       "<table border=\"1\" class=\"dataframe\">\n",
       "  <thead>\n",
       "    <tr style=\"text-align: right;\">\n",
       "      <th></th>\n",
       "      <th>tree_number</th>\n",
       "      <th>oranges</th>\n",
       "    </tr>\n",
       "  </thead>\n",
       "  <tbody>\n",
       "    <tr>\n",
       "      <th>0</th>\n",
       "      <td>1223</td>\n",
       "      <td>305.470796</td>\n",
       "    </tr>\n",
       "    <tr>\n",
       "      <th>1</th>\n",
       "      <td>1224</td>\n",
       "      <td>208.357224</td>\n",
       "    </tr>\n",
       "    <tr>\n",
       "      <th>2</th>\n",
       "      <td>1225</td>\n",
       "      <td>318.145987</td>\n",
       "    </tr>\n",
       "    <tr>\n",
       "      <th>3</th>\n",
       "      <td>1226</td>\n",
       "      <td>274.531146</td>\n",
       "    </tr>\n",
       "    <tr>\n",
       "      <th>4</th>\n",
       "      <td>1227</td>\n",
       "      <td>245.627474</td>\n",
       "    </tr>\n",
       "  </tbody>\n",
       "</table>\n",
       "</div>"
      ],
      "text/plain": [
       "   tree_number     oranges\n",
       "0         1223  305.470796\n",
       "1         1224  208.357224\n",
       "2         1225  318.145987\n",
       "3         1226  274.531146\n",
       "4         1227  245.627474"
      ]
     },
     "execution_count": 2,
     "metadata": {},
     "output_type": "execute_result"
    }
   ],
   "source": [
    "df = pd.read_csv('data/orange_trees.csv')\n",
    "df.head()"
   ]
  },
  {
   "cell_type": "code",
   "execution_count": 3,
   "id": "b5ed018d",
   "metadata": {},
   "outputs": [
    {
     "data": {
      "image/png": "[encoded data removed]",
      "text/plain": [
       "<Figure size 640x480 with 1 Axes>"
      ]
     },
     "metadata": {},
     "output_type": "display_data"
    }
   ],
   "source": [
    "df['oranges'].hist(bins=12);"
   ]
  },
  {
   "cell_type": "markdown",
   "id": "cf44ab53",
   "metadata": {},
   "source": [
    "It has a normal distribution!"
   ]
  },
  {
   "cell_type": "code",
   "execution_count": 4,
   "id": "7b9937cb",
   "metadata": {},
   "outputs": [
    {
     "data": {
      "text/html": [
       "<div>\n",
       "<style scoped>\n",
       "    .dataframe tbody tr th:only-of-type {\n",
       "        vertical-align: middle;\n",
       "    }\n",
       "\n",
       "    .dataframe tbody tr th {\n",
       "        vertical-align: top;\n",
       "    }\n",
       "\n",
       "    .dataframe thead th {\n",
       "        text-align: right;\n",
       "    }\n",
       "</style>\n",
       "<table border=\"1\" class=\"dataframe\">\n",
       "  <thead>\n",
       "    <tr style=\"text-align: right;\">\n",
       "      <th></th>\n",
       "      <th>tree_number</th>\n",
       "      <th>oranges</th>\n",
       "    </tr>\n",
       "  </thead>\n",
       "  <tbody>\n",
       "    <tr>\n",
       "      <th>count</th>\n",
       "      <td>133.00000</td>\n",
       "      <td>133.000000</td>\n",
       "    </tr>\n",
       "    <tr>\n",
       "      <th>mean</th>\n",
       "      <td>1289.00000</td>\n",
       "      <td>277.852803</td>\n",
       "    </tr>\n",
       "    <tr>\n",
       "      <th>std</th>\n",
       "      <td>38.53786</td>\n",
       "      <td>50.922243</td>\n",
       "    </tr>\n",
       "    <tr>\n",
       "      <th>min</th>\n",
       "      <td>1223.00000</td>\n",
       "      <td>137.023145</td>\n",
       "    </tr>\n",
       "    <tr>\n",
       "      <th>25%</th>\n",
       "      <td>1256.00000</td>\n",
       "      <td>237.696112</td>\n",
       "    </tr>\n",
       "    <tr>\n",
       "      <th>50%</th>\n",
       "      <td>1289.00000</td>\n",
       "      <td>279.470482</td>\n",
       "    </tr>\n",
       "    <tr>\n",
       "      <th>75%</th>\n",
       "      <td>1322.00000</td>\n",
       "      <td>312.079787</td>\n",
       "    </tr>\n",
       "    <tr>\n",
       "      <th>max</th>\n",
       "      <td>1355.00000</td>\n",
       "      <td>434.025714</td>\n",
       "    </tr>\n",
       "  </tbody>\n",
       "</table>\n",
       "</div>"
      ],
      "text/plain": [
       "       tree_number     oranges\n",
       "count    133.00000  133.000000\n",
       "mean    1289.00000  277.852803\n",
       "std       38.53786   50.922243\n",
       "min     1223.00000  137.023145\n",
       "25%     1256.00000  237.696112\n",
       "50%     1289.00000  279.470482\n",
       "75%     1322.00000  312.079787\n",
       "max     1355.00000  434.025714"
      ]
     },
     "execution_count": 4,
     "metadata": {},
     "output_type": "execute_result"
    }
   ],
   "source": [
    "df.describe()"
   ]
  },
  {
   "cell_type": "code",
   "execution_count": 5,
   "id": "63c5207f",
   "metadata": {},
   "outputs": [],
   "source": [
    "# Mean of ALL of the number of fruit per tree\n",
    "population_mean = 271.93"
   ]
  },
  {
   "cell_type": "markdown",
   "id": "aba88565",
   "metadata": {},
   "source": [
    "As you can see:\n",
    "* The mean of the oranges per tree (those that used Fertilizer) : 277.85 kg\n",
    "* The mean of the oranges per tree (all trees) : 271.93 kg\n",
    "\n",
    "Is this 6 kg difference reasonable?"
   ]
  },
  {
   "cell_type": "code",
   "execution_count": 6,
   "id": "4ed1e9e9",
   "metadata": {},
   "outputs": [
    {
     "data": {
      "text/plain": [
       "TtestResult(statistic=1.3413606837344207, pvalue=0.18210666026278088, df=132)"
      ]
     },
     "execution_count": 6,
     "metadata": {},
     "output_type": "execute_result"
    }
   ],
   "source": [
    "stats.ttest_1samp(a=df['oranges'], popmean=population_mean)"
   ]
  },
  {
   "cell_type": "markdown",
   "id": "c34b81a2",
   "metadata": {},
   "source": [
    "**pvalue=0.18**\n",
    "\n",
    "So if we set the threshold to 5%, this fertilizer didn't work properly and we can simply say: \"We did not find enough evidence to confirm this claim\"\n",
    "\n",
    "**BUT...!**\n",
    "\n",
    "We can also give this, or any other fertilizer, a grade!\n",
    "\n",
    "* Under 5%:  Grade A\n",
    "* Under 10%: Grade B\n",
    "* Under 20%: Grade C\n",
    "\n",
    "And in this case, this fertilizer gets Grade C"
   ]
  },
  {
   "cell_type": "markdown",
   "id": "db321361",
   "metadata": {},
   "source": [
    "### T-Test (Independent)\n",
    "\n",
    "We use this type of T-Test when we have 2 different sets of data. (Both sets must meet T-Test's conditions)\n",
    "\n",
    "In this example, we're gonna compare the scores of IELTS Exam between Iranian and iraqi people.\n",
    "\n"
   ]
  },
  {
   "cell_type": "code",
   "execution_count": 7,
   "id": "5a2d3b78",
   "metadata": {},
   "outputs": [],
   "source": [
    "df_ielts_98 = pd.read_csv('data/ielts_IR.csv')\n",
    "df_ielts_99 = pd.read_csv('data/ielts_IRQ.csv')"
   ]
  },
  {
   "cell_type": "code",
   "execution_count": 8,
   "id": "e5c52208",
   "metadata": {},
   "outputs": [
    {
     "data": {
      "image/png": "[encoded data removed]",
      "text/plain": [
       "<Figure size 640x480 with 1 Axes>"
      ]
     },
     "metadata": {},
     "output_type": "display_data"
    }
   ],
   "source": [
    "df_ielts_98['ielts'].hist();"
   ]
  },
  {
   "cell_type": "code",
   "execution_count": 9,
   "id": "5b3ec097",
   "metadata": {},
   "outputs": [
    {
     "data": {
      "image/png": "[encoded data removed]",
      "text/plain": [
       "<Figure size 640x480 with 1 Axes>"
      ]
     },
     "metadata": {},
     "output_type": "display_data"
    }
   ],
   "source": [
    "df_ielts_99['ielts'].hist();"
   ]
  },
  {
   "cell_type": "markdown",
   "id": "e2cb3796",
   "metadata": {},
   "source": [
    "They both have a normal distribution!"
   ]
  },
  {
   "cell_type": "code",
   "execution_count": 10,
   "id": "bd6cef4e",
   "metadata": {},
   "outputs": [
    {
     "data": {
      "text/plain": [
       "ShapiroResult(statistic=0.9969674348831177, pvalue=0.1879747062921524)"
      ]
     },
     "execution_count": 10,
     "metadata": {},
     "output_type": "execute_result"
    }
   ],
   "source": [
    "from scipy.stats import shapiro\n",
    "shapiro(df_ielts_99['ielts'])"
   ]
  },
  {
   "cell_type": "code",
   "execution_count": 11,
   "id": "57feafa9",
   "metadata": {},
   "outputs": [
    {
     "data": {
      "text/html": [
       "<div>\n",
       "<style scoped>\n",
       "    .dataframe tbody tr th:only-of-type {\n",
       "        vertical-align: middle;\n",
       "    }\n",
       "\n",
       "    .dataframe tbody tr th {\n",
       "        vertical-align: top;\n",
       "    }\n",
       "\n",
       "    .dataframe thead th {\n",
       "        text-align: right;\n",
       "    }\n",
       "</style>\n",
       "<table border=\"1\" class=\"dataframe\">\n",
       "  <thead>\n",
       "    <tr style=\"text-align: right;\">\n",
       "      <th></th>\n",
       "      <th>student_code</th>\n",
       "      <th>ielts</th>\n",
       "    </tr>\n",
       "  </thead>\n",
       "  <tbody>\n",
       "    <tr>\n",
       "      <th>0</th>\n",
       "      <td>278917</td>\n",
       "      <td>6.330613</td>\n",
       "    </tr>\n",
       "    <tr>\n",
       "      <th>1</th>\n",
       "      <td>278918</td>\n",
       "      <td>7.275424</td>\n",
       "    </tr>\n",
       "    <tr>\n",
       "      <th>2</th>\n",
       "      <td>278919</td>\n",
       "      <td>7.012370</td>\n",
       "    </tr>\n",
       "    <tr>\n",
       "      <th>3</th>\n",
       "      <td>278920</td>\n",
       "      <td>5.564860</td>\n",
       "    </tr>\n",
       "    <tr>\n",
       "      <th>4</th>\n",
       "      <td>278921</td>\n",
       "      <td>5.607750</td>\n",
       "    </tr>\n",
       "  </tbody>\n",
       "</table>\n",
       "</div>"
      ],
      "text/plain": [
       "   student_code     ielts\n",
       "0        278917  6.330613\n",
       "1        278918  7.275424\n",
       "2        278919  7.012370\n",
       "3        278920  5.564860\n",
       "4        278921  5.607750"
      ]
     },
     "execution_count": 11,
     "metadata": {},
     "output_type": "execute_result"
    }
   ],
   "source": [
    "df_ielts_98.head()"
   ]
  },
  {
   "cell_type": "code",
   "execution_count": 12,
   "id": "fbcf3e4e",
   "metadata": {},
   "outputs": [
    {
     "data": {
      "text/html": [
       "<div>\n",
       "<style scoped>\n",
       "    .dataframe tbody tr th:only-of-type {\n",
       "        vertical-align: middle;\n",
       "    }\n",
       "\n",
       "    .dataframe tbody tr th {\n",
       "        vertical-align: top;\n",
       "    }\n",
       "\n",
       "    .dataframe thead th {\n",
       "        text-align: right;\n",
       "    }\n",
       "</style>\n",
       "<table border=\"1\" class=\"dataframe\">\n",
       "  <thead>\n",
       "    <tr style=\"text-align: right;\">\n",
       "      <th></th>\n",
       "      <th>student_code</th>\n",
       "      <th>ielts</th>\n",
       "    </tr>\n",
       "  </thead>\n",
       "  <tbody>\n",
       "    <tr>\n",
       "      <th>0</th>\n",
       "      <td>3141112</td>\n",
       "      <td>8.725932</td>\n",
       "    </tr>\n",
       "    <tr>\n",
       "      <th>1</th>\n",
       "      <td>3141113</td>\n",
       "      <td>8.144126</td>\n",
       "    </tr>\n",
       "    <tr>\n",
       "      <th>2</th>\n",
       "      <td>3141114</td>\n",
       "      <td>6.419268</td>\n",
       "    </tr>\n",
       "    <tr>\n",
       "      <th>3</th>\n",
       "      <td>3141115</td>\n",
       "      <td>5.458811</td>\n",
       "    </tr>\n",
       "    <tr>\n",
       "      <th>4</th>\n",
       "      <td>3141116</td>\n",
       "      <td>9.303161</td>\n",
       "    </tr>\n",
       "  </tbody>\n",
       "</table>\n",
       "</div>"
      ],
      "text/plain": [
       "   student_code     ielts\n",
       "0       3141112  8.725932\n",
       "1       3141113  8.144126\n",
       "2       3141114  6.419268\n",
       "3       3141115  5.458811\n",
       "4       3141116  9.303161"
      ]
     },
     "execution_count": 12,
     "metadata": {},
     "output_type": "execute_result"
    }
   ],
   "source": [
    "df_ielts_99.head()"
   ]
  },
  {
   "cell_type": "code",
   "execution_count": 13,
   "id": "93b3d584",
   "metadata": {},
   "outputs": [
    {
     "data": {
      "text/html": [
       "<div>\n",
       "<style scoped>\n",
       "    .dataframe tbody tr th:only-of-type {\n",
       "        vertical-align: middle;\n",
       "    }\n",
       "\n",
       "    .dataframe tbody tr th {\n",
       "        vertical-align: top;\n",
       "    }\n",
       "\n",
       "    .dataframe thead th {\n",
       "        text-align: right;\n",
       "    }\n",
       "</style>\n",
       "<table border=\"1\" class=\"dataframe\">\n",
       "  <thead>\n",
       "    <tr style=\"text-align: right;\">\n",
       "      <th></th>\n",
       "      <th>student_code</th>\n",
       "      <th>ielts</th>\n",
       "    </tr>\n",
       "  </thead>\n",
       "  <tbody>\n",
       "    <tr>\n",
       "      <th>count</th>\n",
       "      <td>820.000000</td>\n",
       "      <td>820.000000</td>\n",
       "    </tr>\n",
       "    <tr>\n",
       "      <th>mean</th>\n",
       "      <td>279326.500000</td>\n",
       "      <td>6.754804</td>\n",
       "    </tr>\n",
       "    <tr>\n",
       "      <th>std</th>\n",
       "      <td>236.857904</td>\n",
       "      <td>1.178691</td>\n",
       "    </tr>\n",
       "    <tr>\n",
       "      <th>min</th>\n",
       "      <td>278917.000000</td>\n",
       "      <td>3.094945</td>\n",
       "    </tr>\n",
       "    <tr>\n",
       "      <th>25%</th>\n",
       "      <td>279121.750000</td>\n",
       "      <td>5.971638</td>\n",
       "    </tr>\n",
       "    <tr>\n",
       "      <th>50%</th>\n",
       "      <td>279326.500000</td>\n",
       "      <td>6.775687</td>\n",
       "    </tr>\n",
       "    <tr>\n",
       "      <th>75%</th>\n",
       "      <td>279531.250000</td>\n",
       "      <td>7.532372</td>\n",
       "    </tr>\n",
       "    <tr>\n",
       "      <th>max</th>\n",
       "      <td>279736.000000</td>\n",
       "      <td>10.159504</td>\n",
       "    </tr>\n",
       "  </tbody>\n",
       "</table>\n",
       "</div>"
      ],
      "text/plain": [
       "        student_code       ielts\n",
       "count     820.000000  820.000000\n",
       "mean   279326.500000    6.754804\n",
       "std       236.857904    1.178691\n",
       "min    278917.000000    3.094945\n",
       "25%    279121.750000    5.971638\n",
       "50%    279326.500000    6.775687\n",
       "75%    279531.250000    7.532372\n",
       "max    279736.000000   10.159504"
      ]
     },
     "execution_count": 13,
     "metadata": {},
     "output_type": "execute_result"
    }
   ],
   "source": [
    "df_ielts_98.describe()"
   ]
  },
  {
   "cell_type": "code",
   "execution_count": 14,
   "id": "896d4cc6",
   "metadata": {},
   "outputs": [
    {
     "data": {
      "text/html": [
       "<div>\n",
       "<style scoped>\n",
       "    .dataframe tbody tr th:only-of-type {\n",
       "        vertical-align: middle;\n",
       "    }\n",
       "\n",
       "    .dataframe tbody tr th {\n",
       "        vertical-align: top;\n",
       "    }\n",
       "\n",
       "    .dataframe thead th {\n",
       "        text-align: right;\n",
       "    }\n",
       "</style>\n",
       "<table border=\"1\" class=\"dataframe\">\n",
       "  <thead>\n",
       "    <tr style=\"text-align: right;\">\n",
       "      <th></th>\n",
       "      <th>student_code</th>\n",
       "      <th>ielts</th>\n",
       "    </tr>\n",
       "  </thead>\n",
       "  <tbody>\n",
       "    <tr>\n",
       "      <th>count</th>\n",
       "      <td>7.300000e+02</td>\n",
       "      <td>730.000000</td>\n",
       "    </tr>\n",
       "    <tr>\n",
       "      <th>mean</th>\n",
       "      <td>3.141476e+06</td>\n",
       "      <td>6.956215</td>\n",
       "    </tr>\n",
       "    <tr>\n",
       "      <th>std</th>\n",
       "      <td>2.108771e+02</td>\n",
       "      <td>0.964884</td>\n",
       "    </tr>\n",
       "    <tr>\n",
       "      <th>min</th>\n",
       "      <td>3.141112e+06</td>\n",
       "      <td>3.988457</td>\n",
       "    </tr>\n",
       "    <tr>\n",
       "      <th>25%</th>\n",
       "      <td>3.141294e+06</td>\n",
       "      <td>6.302632</td>\n",
       "    </tr>\n",
       "    <tr>\n",
       "      <th>50%</th>\n",
       "      <td>3.141476e+06</td>\n",
       "      <td>6.912297</td>\n",
       "    </tr>\n",
       "    <tr>\n",
       "      <th>75%</th>\n",
       "      <td>3.141659e+06</td>\n",
       "      <td>7.617062</td>\n",
       "    </tr>\n",
       "    <tr>\n",
       "      <th>max</th>\n",
       "      <td>3.141841e+06</td>\n",
       "      <td>9.772641</td>\n",
       "    </tr>\n",
       "  </tbody>\n",
       "</table>\n",
       "</div>"
      ],
      "text/plain": [
       "       student_code       ielts\n",
       "count  7.300000e+02  730.000000\n",
       "mean   3.141476e+06    6.956215\n",
       "std    2.108771e+02    0.964884\n",
       "min    3.141112e+06    3.988457\n",
       "25%    3.141294e+06    6.302632\n",
       "50%    3.141476e+06    6.912297\n",
       "75%    3.141659e+06    7.617062\n",
       "max    3.141841e+06    9.772641"
      ]
     },
     "execution_count": 14,
     "metadata": {},
     "output_type": "execute_result"
    }
   ],
   "source": [
    "df_ielts_99.describe()"
   ]
  },
  {
   "cell_type": "markdown",
   "id": "5a534db5",
   "metadata": {},
   "source": [
    "The mean score of Iraninans: 6.75\n",
    "\n",
    "The mean score of Iraqi people: 6.95\n",
    "\n",
    "Question: Is this 0.2 difference in points valid?"
   ]
  },
  {
   "cell_type": "code",
   "execution_count": 15,
   "id": "13040c52",
   "metadata": {},
   "outputs": [
    {
     "data": {
      "text/plain": [
       "TtestResult(statistic=-3.6538217675570297, pvalue=0.00026698442613130104, df=1548.0)"
      ]
     },
     "execution_count": 15,
     "metadata": {},
     "output_type": "execute_result"
    }
   ],
   "source": [
    "stats.ttest_ind(a=df_ielts_98['ielts'], b=df_ielts_99['ielts'])"
   ]
  },
  {
   "cell_type": "markdown",
   "id": "3b68b00c",
   "metadata": {},
   "source": [
    "pvalue=0.0002\n",
    "\n",
    "It's a really small number! So the difference is logical"
   ]
  },
  {
   "cell_type": "markdown",
   "id": "1d44f72d",
   "metadata": {},
   "source": [
    "### T-Test (Relative)\n",
    "\n",
    "We use this type of T-Test when both groups A and B are the same person or the same thing. that's why we say Ralative!\n",
    "\n",
    "A pill that can make you fat in a week! \n",
    "\n",
    "Really?! Let's see!"
   ]
  },
  {
   "cell_type": "code",
   "execution_count": 16,
   "id": "cf925fec",
   "metadata": {},
   "outputs": [
    {
     "data": {
      "text/html": [
       "<div>\n",
       "<style scoped>\n",
       "    .dataframe tbody tr th:only-of-type {\n",
       "        vertical-align: middle;\n",
       "    }\n",
       "\n",
       "    .dataframe tbody tr th {\n",
       "        vertical-align: top;\n",
       "    }\n",
       "\n",
       "    .dataframe thead th {\n",
       "        text-align: right;\n",
       "    }\n",
       "</style>\n",
       "<table border=\"1\" class=\"dataframe\">\n",
       "  <thead>\n",
       "    <tr style=\"text-align: right;\">\n",
       "      <th></th>\n",
       "      <th>weight_before</th>\n",
       "      <th>weight_after</th>\n",
       "    </tr>\n",
       "  </thead>\n",
       "  <tbody>\n",
       "    <tr>\n",
       "      <th>0</th>\n",
       "      <td>65.126024</td>\n",
       "      <td>69.579014</td>\n",
       "    </tr>\n",
       "    <tr>\n",
       "      <th>1</th>\n",
       "      <td>67.081931</td>\n",
       "      <td>70.142003</td>\n",
       "    </tr>\n",
       "    <tr>\n",
       "      <th>2</th>\n",
       "      <td>72.380314</td>\n",
       "      <td>67.482958</td>\n",
       "    </tr>\n",
       "    <tr>\n",
       "      <th>3</th>\n",
       "      <td>63.592077</td>\n",
       "      <td>64.890133</td>\n",
       "    </tr>\n",
       "    <tr>\n",
       "      <th>4</th>\n",
       "      <td>57.333414</td>\n",
       "      <td>70.430886</td>\n",
       "    </tr>\n",
       "  </tbody>\n",
       "</table>\n",
       "</div>"
      ],
      "text/plain": [
       "   weight_before  weight_after\n",
       "0      65.126024     69.579014\n",
       "1      67.081931     70.142003\n",
       "2      72.380314     67.482958\n",
       "3      63.592077     64.890133\n",
       "4      57.333414     70.430886"
      ]
     },
     "execution_count": 16,
     "metadata": {},
     "output_type": "execute_result"
    }
   ],
   "source": [
    "df = pd.read_csv('data/weights_change.csv')\n",
    "df.head()"
   ]
  },
  {
   "cell_type": "code",
   "execution_count": 17,
   "id": "ec4125ff",
   "metadata": {},
   "outputs": [
    {
     "data": {
      "image/png": "[encoded data removed]",
      "text/plain": [
       "<Figure size 640x480 with 2 Axes>"
      ]
     },
     "metadata": {},
     "output_type": "display_data"
    }
   ],
   "source": [
    "df.hist(bins=50);"
   ]
  },
  {
   "cell_type": "code",
   "execution_count": 18,
   "id": "d9b26928",
   "metadata": {},
   "outputs": [
    {
     "data": {
      "text/html": [
       "<div>\n",
       "<style scoped>\n",
       "    .dataframe tbody tr th:only-of-type {\n",
       "        vertical-align: middle;\n",
       "    }\n",
       "\n",
       "    .dataframe tbody tr th {\n",
       "        vertical-align: top;\n",
       "    }\n",
       "\n",
       "    .dataframe thead th {\n",
       "        text-align: right;\n",
       "    }\n",
       "</style>\n",
       "<table border=\"1\" class=\"dataframe\">\n",
       "  <thead>\n",
       "    <tr style=\"text-align: right;\">\n",
       "      <th></th>\n",
       "      <th>weight_before</th>\n",
       "      <th>weight_after</th>\n",
       "    </tr>\n",
       "  </thead>\n",
       "  <tbody>\n",
       "    <tr>\n",
       "      <th>count</th>\n",
       "      <td>410.000000</td>\n",
       "      <td>410.000000</td>\n",
       "    </tr>\n",
       "    <tr>\n",
       "      <th>mean</th>\n",
       "      <td>68.863354</td>\n",
       "      <td>70.425341</td>\n",
       "    </tr>\n",
       "    <tr>\n",
       "      <th>std</th>\n",
       "      <td>5.243526</td>\n",
       "      <td>4.975498</td>\n",
       "    </tr>\n",
       "    <tr>\n",
       "      <th>min</th>\n",
       "      <td>53.647173</td>\n",
       "      <td>56.991774</td>\n",
       "    </tr>\n",
       "    <tr>\n",
       "      <th>25%</th>\n",
       "      <td>65.136296</td>\n",
       "      <td>67.184292</td>\n",
       "    </tr>\n",
       "    <tr>\n",
       "      <th>50%</th>\n",
       "      <td>68.669384</td>\n",
       "      <td>70.455450</td>\n",
       "    </tr>\n",
       "    <tr>\n",
       "      <th>75%</th>\n",
       "      <td>72.729821</td>\n",
       "      <td>73.506856</td>\n",
       "    </tr>\n",
       "    <tr>\n",
       "      <th>max</th>\n",
       "      <td>85.056591</td>\n",
       "      <td>86.939716</td>\n",
       "    </tr>\n",
       "  </tbody>\n",
       "</table>\n",
       "</div>"
      ],
      "text/plain": [
       "       weight_before  weight_after\n",
       "count     410.000000    410.000000\n",
       "mean       68.863354     70.425341\n",
       "std         5.243526      4.975498\n",
       "min        53.647173     56.991774\n",
       "25%        65.136296     67.184292\n",
       "50%        68.669384     70.455450\n",
       "75%        72.729821     73.506856\n",
       "max        85.056591     86.939716"
      ]
     },
     "execution_count": 18,
     "metadata": {},
     "output_type": "execute_result"
    }
   ],
   "source": [
    "df.describe()"
   ]
  },
  {
   "cell_type": "code",
   "execution_count": 19,
   "id": "a71c14e2",
   "metadata": {},
   "outputs": [
    {
     "data": {
      "text/plain": [
       "TtestResult(statistic=-4.4624675042842386, pvalue=1.0488324309628723e-05, df=409)"
      ]
     },
     "execution_count": 19,
     "metadata": {},
     "output_type": "execute_result"
    }
   ],
   "source": [
    "stats.ttest_rel(a=df['weight_before'], b=df['weight_after'])"
   ]
  },
  {
   "cell_type": "markdown",
   "id": "1d983d67",
   "metadata": {},
   "source": [
    "It's a really small number!!!!\n",
    "\n",
    "So the 2 kg difference is reasonable\n",
    "\n",
    "**BUT...!**\n",
    "\n",
    "We did something wrong!\n",
    "\n",
    "It's completely clear that this 2 kg difference is logical from the prespective of statistics. But are we sure that this difference happened because of the pills? I mean what if we did this experiment in the middle of the holidays?! Obviously people would eat more on this period of time!\n",
    "\n",
    "Well we can control their diet. This itself has chalanges! When people know that they are being under an experiment, they would get nervous and this stress itself, would cause overeating.\n",
    "\n",
    "Another way is to bring another group which are chosen randomly from the whole population and would be called A′ and B′ (before and after taking the fake pill..!). We would give them the fake pill and after a week we would compare the difference between A & B and A′ & B′ to make sure that it was the pill that did the magic! or that it was just a bluff.\n",
    "\n",
    "## U-Test\n",
    "\n",
    "Now what if the data didn't have a normal distribution...?\n",
    "\n",
    "Well that's when we use `Mann-Whithny-U-Test`\n",
    "\n",
    "Imagine we have two classes, g1 & g2. We have the scores of these classes which both do not have a normal distribution. So we can't use T-Test! We can use U-Test. Let's see how it works...!"
   ]
  },
  {
   "cell_type": "code",
   "execution_count": 20,
   "id": "5e450950",
   "metadata": {},
   "outputs": [],
   "source": [
    "g1 = [20, 23, 21, 25, 18, 17, 18, 24, 20, 24, 23, 19]\n",
    "g2 = [24, 25, 21, 22, 23, 28, 24, 27, 21, 23]"
   ]
  },
  {
   "cell_type": "code",
   "execution_count": 21,
   "id": "8ca18dcd",
   "metadata": {},
   "outputs": [
    {
     "name": "stdout",
     "output_type": "stream",
     "text": [
      "Mean score of class g1: 21.0\n",
      "Mean score of class g2: 23.8\n"
     ]
    }
   ],
   "source": [
    "print(f'Mean score of class g1: {np.mean(g1)}')\n",
    "print(f'Mean score of class g2: {np.mean(g2)}')"
   ]
  },
  {
   "cell_type": "markdown",
   "id": "0d4be994",
   "metadata": {},
   "source": [
    "Now again, there's a big question you gotta ask yourself...:\n",
    "\n",
    "Is this difference logical from the prespective of statistics?!\n",
    "\n",
    "Well let's see!"
   ]
  },
  {
   "cell_type": "code",
   "execution_count": 22,
   "id": "4bd36d9f",
   "metadata": {},
   "outputs": [
    {
     "data": {
      "text/plain": [
       "MannwhitneyuResult(statistic=28.5, pvalue=0.039413690126797137)"
      ]
     },
     "execution_count": 22,
     "metadata": {},
     "output_type": "execute_result"
    }
   ],
   "source": [
    "stats.mannwhitneyu(g1, g2, alternative='two-sided')"
   ]
  },
  {
   "cell_type": "markdown",
   "id": "576fb5f8",
   "metadata": {},
   "source": [
    "Two sided means that these two groups are different from each other\n",
    "\n",
    "How likely are these two are different by chance?\n",
    "\n",
    "pvalue=0.039\n",
    "\n",
    "So it is valid!"
   ]
  },
  {
   "cell_type": "code",
   "execution_count": 23,
   "id": "3c61646d",
   "metadata": {},
   "outputs": [
    {
     "data": {
      "text/plain": [
       "MannwhitneyuResult(statistic=28.5, pvalue=0.9832603592232242)"
      ]
     },
     "execution_count": 23,
     "metadata": {},
     "output_type": "execute_result"
    }
   ],
   "source": [
    "stats.mannwhitneyu(g1, g2, alternative='greater')"
   ]
  },
  {
   "cell_type": "markdown",
   "id": "592eea8e",
   "metadata": {},
   "source": [
    "This one (greater) says that what is the probability that g1 is greater than g2 by chance?\n",
    "\n",
    "Like someone says that the students in calss g1 are smarter than the students in class g2\n",
    "\n",
    "pvalue=0.983\n",
    "\n",
    "which is a funny value :)"
   ]
  },
  {
   "cell_type": "code",
   "execution_count": 24,
   "id": "06492a18",
   "metadata": {},
   "outputs": [
    {
     "data": {
      "text/plain": [
       "MannwhitneyuResult(statistic=28.5, pvalue=0.019706845063398568)"
      ]
     },
     "execution_count": 24,
     "metadata": {},
     "output_type": "execute_result"
    }
   ],
   "source": [
    "stats.mannwhitneyu(g1, g2, alternative='less')"
   ]
  },
  {
   "cell_type": "markdown",
   "id": "e409dd0f",
   "metadata": {},
   "source": [
    "And this one (greater) says that what is the probability that g1 is less than g2 by chance?\n",
    "\n",
    "Foe example someone says that the students in calss g1 are `Not` smarter than the students in class g2\n",
    "\n",
    "pvalue=0.019\n",
    "\n",
    "which is a small number! so it's valid and logical\n",
    "\n",
    "## Normality Tests\n",
    "\n",
    "We often use a histogram chart in order to see if our data has a normal distribution. But if we wanted to make sure and be more specific, we would use these normality tests.\n",
    "\n",
    "### Shapiro Normality test\n",
    "\n",
    "It simply takes the data and would give the P-value. If the P-value was above 0.05, the data has a normal distribution. Otherwise, it does `not` have a normal distribution. \n",
    "\n",
    "Let's see that in action..."
   ]
  },
  {
   "cell_type": "code",
   "execution_count": 25,
   "id": "276c262c",
   "metadata": {},
   "outputs": [
    {
     "name": "stdout",
     "output_type": "stream",
     "text": [
      "[28.93405174 19.50584081 20.93592362 ... 25.31643512 20.04480554\n",
      " 15.20681952]\n"
     ]
    }
   ],
   "source": [
    "data = np.random.normal(loc=20, scale=5, size=5000)\n",
    "print(data)"
   ]
  },
  {
   "cell_type": "markdown",
   "id": "d4208b1a",
   "metadata": {},
   "source": [
    "We just created a data with the mean of 20, the STD of 5, with 5000 samples!"
   ]
  },
  {
   "cell_type": "code",
   "execution_count": 26,
   "id": "73a60c0b",
   "metadata": {},
   "outputs": [
    {
     "data": {
      "text/plain": [
       "ShapiroResult(statistic=0.9997232556343079, pvalue=0.7750198245048523)"
      ]
     },
     "execution_count": 26,
     "metadata": {},
     "output_type": "execute_result"
    }
   ],
   "source": [
    "shapiro(data)"
   ]
  },
  {
   "cell_type": "markdown",
   "id": "53e04629",
   "metadata": {},
   "source": [
    "pvalue=0.16\n",
    "\n",
    "So p-value is above 0.05 which is shows that the data has a normal distrbution.\n",
    "\n",
    "### Probability Plot\n",
    "\n",
    "This is another test to see if our data has a normal distrbution.\n",
    "\n",
    "It would give us a plot. The closer the blue points (our data) get to the red line, the more we make sure that the data has a normal distrbution."
   ]
  },
  {
   "cell_type": "code",
   "execution_count": 27,
   "id": "aa513f4f",
   "metadata": {},
   "outputs": [
    {
     "data": {
      "image/png": "[encoded data removed]",
      "text/plain": [
       "<Figure size 640x480 with 1 Axes>"
      ]
     },
     "metadata": {},
     "output_type": "display_data"
    }
   ],
   "source": [
    "stats.probplot(data, dist='norm', plot=pylab);"
   ]
  },
  {
   "cell_type": "markdown",
   "id": "366ee2ca",
   "metadata": {},
   "source": [
    "## Chi2 Test \n",
    "\n",
    "When we normally want to check the relationship (linear relationship) between two columns of a dataframe, we use corrolation. But in some cases we can't use it. Because corrolation only shows linear relationship. What if we wanted to check non-linear relationship?!\n",
    "\n",
    "When at least on of the 2 columns that we want to check is non-numeric, we use Chi2 Test.\n",
    "\n",
    "So in this dataset which is about HR, we want to know if there are any relationship between the columns `Attrition` and `job satisfaction`."
   ]
  },
  {
   "cell_type": "code",
   "execution_count": 28,
   "id": "df75d25c",
   "metadata": {},
   "outputs": [
    {
     "data": {
      "text/html": [
       "<div>\n",
       "<style scoped>\n",
       "    .dataframe tbody tr th:only-of-type {\n",
       "        vertical-align: middle;\n",
       "    }\n",
       "\n",
       "    .dataframe tbody tr th {\n",
       "        vertical-align: top;\n",
       "    }\n",
       "\n",
       "    .dataframe thead th {\n",
       "        text-align: right;\n",
       "    }\n",
       "</style>\n",
       "<table border=\"1\" class=\"dataframe\">\n",
       "  <thead>\n",
       "    <tr style=\"text-align: right;\">\n",
       "      <th></th>\n",
       "      <th>Age</th>\n",
       "      <th>Attrition</th>\n",
       "      <th>BusinessTravel</th>\n",
       "      <th>DailyRate</th>\n",
       "      <th>Department</th>\n",
       "      <th>DistanceFromHome</th>\n",
       "      <th>Education</th>\n",
       "      <th>EducationField</th>\n",
       "      <th>EmployeeCount</th>\n",
       "      <th>EmployeeNumber</th>\n",
       "      <th>...</th>\n",
       "      <th>RelationshipSatisfaction</th>\n",
       "      <th>StandardHours</th>\n",
       "      <th>StockOptionLevel</th>\n",
       "      <th>TotalWorkingYears</th>\n",
       "      <th>TrainingTimesLastYear</th>\n",
       "      <th>WorkLifeBalance</th>\n",
       "      <th>YearsAtCompany</th>\n",
       "      <th>YearsInCurrentRole</th>\n",
       "      <th>YearsSinceLastPromotion</th>\n",
       "      <th>YearsWithCurrManager</th>\n",
       "    </tr>\n",
       "  </thead>\n",
       "  <tbody>\n",
       "    <tr>\n",
       "      <th>0</th>\n",
       "      <td>41</td>\n",
       "      <td>Yes</td>\n",
       "      <td>Travel_Rarely</td>\n",
       "      <td>1102</td>\n",
       "      <td>Sales</td>\n",
       "      <td>1</td>\n",
       "      <td>2</td>\n",
       "      <td>Life Sciences</td>\n",
       "      <td>1</td>\n",
       "      <td>1</td>\n",
       "      <td>...</td>\n",
       "      <td>1</td>\n",
       "      <td>80</td>\n",
       "      <td>0</td>\n",
       "      <td>8</td>\n",
       "      <td>0</td>\n",
       "      <td>1</td>\n",
       "      <td>6</td>\n",
       "      <td>4</td>\n",
       "      <td>0</td>\n",
       "      <td>5</td>\n",
       "    </tr>\n",
       "    <tr>\n",
       "      <th>1</th>\n",
       "      <td>49</td>\n",
       "      <td>No</td>\n",
       "      <td>Travel_Frequently</td>\n",
       "      <td>279</td>\n",
       "      <td>Research &amp; Development</td>\n",
       "      <td>8</td>\n",
       "      <td>1</td>\n",
       "      <td>Life Sciences</td>\n",
       "      <td>1</td>\n",
       "      <td>2</td>\n",
       "      <td>...</td>\n",
       "      <td>4</td>\n",
       "      <td>80</td>\n",
       "      <td>1</td>\n",
       "      <td>10</td>\n",
       "      <td>3</td>\n",
       "      <td>3</td>\n",
       "      <td>10</td>\n",
       "      <td>7</td>\n",
       "      <td>1</td>\n",
       "      <td>7</td>\n",
       "    </tr>\n",
       "    <tr>\n",
       "      <th>2</th>\n",
       "      <td>37</td>\n",
       "      <td>Yes</td>\n",
       "      <td>Travel_Rarely</td>\n",
       "      <td>1373</td>\n",
       "      <td>Research &amp; Development</td>\n",
       "      <td>2</td>\n",
       "      <td>2</td>\n",
       "      <td>Other</td>\n",
       "      <td>1</td>\n",
       "      <td>4</td>\n",
       "      <td>...</td>\n",
       "      <td>2</td>\n",
       "      <td>80</td>\n",
       "      <td>0</td>\n",
       "      <td>7</td>\n",
       "      <td>3</td>\n",
       "      <td>3</td>\n",
       "      <td>0</td>\n",
       "      <td>0</td>\n",
       "      <td>0</td>\n",
       "      <td>0</td>\n",
       "    </tr>\n",
       "    <tr>\n",
       "      <th>3</th>\n",
       "      <td>33</td>\n",
       "      <td>No</td>\n",
       "      <td>Travel_Frequently</td>\n",
       "      <td>1392</td>\n",
       "      <td>Research &amp; Development</td>\n",
       "      <td>3</td>\n",
       "      <td>4</td>\n",
       "      <td>Life Sciences</td>\n",
       "      <td>1</td>\n",
       "      <td>5</td>\n",
       "      <td>...</td>\n",
       "      <td>3</td>\n",
       "      <td>80</td>\n",
       "      <td>0</td>\n",
       "      <td>8</td>\n",
       "      <td>3</td>\n",
       "      <td>3</td>\n",
       "      <td>8</td>\n",
       "      <td>7</td>\n",
       "      <td>3</td>\n",
       "      <td>0</td>\n",
       "    </tr>\n",
       "    <tr>\n",
       "      <th>4</th>\n",
       "      <td>27</td>\n",
       "      <td>No</td>\n",
       "      <td>Travel_Rarely</td>\n",
       "      <td>591</td>\n",
       "      <td>Research &amp; Development</td>\n",
       "      <td>2</td>\n",
       "      <td>1</td>\n",
       "      <td>Medical</td>\n",
       "      <td>1</td>\n",
       "      <td>7</td>\n",
       "      <td>...</td>\n",
       "      <td>4</td>\n",
       "      <td>80</td>\n",
       "      <td>1</td>\n",
       "      <td>6</td>\n",
       "      <td>3</td>\n",
       "      <td>3</td>\n",
       "      <td>2</td>\n",
       "      <td>2</td>\n",
       "      <td>2</td>\n",
       "      <td>2</td>\n",
       "    </tr>\n",
       "  </tbody>\n",
       "</table>\n",
       "<p>5 rows × 35 columns</p>\n",
       "</div>"
      ],
      "text/plain": [
       "   Age Attrition     BusinessTravel  DailyRate              Department  \\\n",
       "0   41       Yes      Travel_Rarely       1102                   Sales   \n",
       "1   49        No  Travel_Frequently        279  Research & Development   \n",
       "2   37       Yes      Travel_Rarely       1373  Research & Development   \n",
       "3   33        No  Travel_Frequently       1392  Research & Development   \n",
       "4   27        No      Travel_Rarely        591  Research & Development   \n",
       "\n",
       "   DistanceFromHome  Education EducationField  EmployeeCount  EmployeeNumber  \\\n",
       "0                 1          2  Life Sciences              1               1   \n",
       "1                 8          1  Life Sciences              1               2   \n",
       "2                 2          2          Other              1               4   \n",
       "3                 3          4  Life Sciences              1               5   \n",
       "4                 2          1        Medical              1               7   \n",
       "\n",
       "   ...  RelationshipSatisfaction StandardHours  StockOptionLevel  \\\n",
       "0  ...                         1            80                 0   \n",
       "1  ...                         4            80                 1   \n",
       "2  ...                         2            80                 0   \n",
       "3  ...                         3            80                 0   \n",
       "4  ...                         4            80                 1   \n",
       "\n",
       "   TotalWorkingYears  TrainingTimesLastYear WorkLifeBalance  YearsAtCompany  \\\n",
       "0                  8                      0               1               6   \n",
       "1                 10                      3               3              10   \n",
       "2                  7                      3               3               0   \n",
       "3                  8                      3               3               8   \n",
       "4                  6                      3               3               2   \n",
       "\n",
       "  YearsInCurrentRole  YearsSinceLastPromotion  YearsWithCurrManager  \n",
       "0                  4                        0                     5  \n",
       "1                  7                        1                     7  \n",
       "2                  0                        0                     0  \n",
       "3                  7                        3                     0  \n",
       "4                  2                        2                     2  \n",
       "\n",
       "[5 rows x 35 columns]"
      ]
     },
     "execution_count": 28,
     "metadata": {},
     "output_type": "execute_result"
    }
   ],
   "source": [
    "data = pd.read_csv('data/WA_Fn-UseC_-HR-Employee-Attrition.csv')\n",
    "data.head()"
   ]
  },
  {
   "cell_type": "code",
   "execution_count": 29,
   "id": "e1388032",
   "metadata": {},
   "outputs": [
    {
     "data": {
      "text/html": [
       "<div>\n",
       "<style scoped>\n",
       "    .dataframe tbody tr th:only-of-type {\n",
       "        vertical-align: middle;\n",
       "    }\n",
       "\n",
       "    .dataframe tbody tr th {\n",
       "        vertical-align: top;\n",
       "    }\n",
       "\n",
       "    .dataframe thead th {\n",
       "        text-align: right;\n",
       "    }\n",
       "</style>\n",
       "<table border=\"1\" class=\"dataframe\">\n",
       "  <thead>\n",
       "    <tr style=\"text-align: right;\">\n",
       "      <th></th>\n",
       "      <th>Age</th>\n",
       "      <th>DailyRate</th>\n",
       "      <th>DistanceFromHome</th>\n",
       "      <th>Education</th>\n",
       "      <th>EmployeeCount</th>\n",
       "      <th>EmployeeNumber</th>\n",
       "      <th>EnvironmentSatisfaction</th>\n",
       "      <th>HourlyRate</th>\n",
       "      <th>JobInvolvement</th>\n",
       "      <th>JobLevel</th>\n",
       "      <th>...</th>\n",
       "      <th>RelationshipSatisfaction</th>\n",
       "      <th>StandardHours</th>\n",
       "      <th>StockOptionLevel</th>\n",
       "      <th>TotalWorkingYears</th>\n",
       "      <th>TrainingTimesLastYear</th>\n",
       "      <th>WorkLifeBalance</th>\n",
       "      <th>YearsAtCompany</th>\n",
       "      <th>YearsInCurrentRole</th>\n",
       "      <th>YearsSinceLastPromotion</th>\n",
       "      <th>YearsWithCurrManager</th>\n",
       "    </tr>\n",
       "  </thead>\n",
       "  <tbody>\n",
       "    <tr>\n",
       "      <th>count</th>\n",
       "      <td>1470.000000</td>\n",
       "      <td>1470.000000</td>\n",
       "      <td>1470.000000</td>\n",
       "      <td>1470.000000</td>\n",
       "      <td>1470.0</td>\n",
       "      <td>1470.000000</td>\n",
       "      <td>1470.000000</td>\n",
       "      <td>1470.000000</td>\n",
       "      <td>1470.000000</td>\n",
       "      <td>1470.000000</td>\n",
       "      <td>...</td>\n",
       "      <td>1470.000000</td>\n",
       "      <td>1470.0</td>\n",
       "      <td>1470.000000</td>\n",
       "      <td>1470.000000</td>\n",
       "      <td>1470.000000</td>\n",
       "      <td>1470.000000</td>\n",
       "      <td>1470.000000</td>\n",
       "      <td>1470.000000</td>\n",
       "      <td>1470.000000</td>\n",
       "      <td>1470.000000</td>\n",
       "    </tr>\n",
       "    <tr>\n",
       "      <th>mean</th>\n",
       "      <td>36.923810</td>\n",
       "      <td>802.485714</td>\n",
       "      <td>9.192517</td>\n",
       "      <td>2.912925</td>\n",
       "      <td>1.0</td>\n",
       "      <td>1024.865306</td>\n",
       "      <td>2.721769</td>\n",
       "      <td>65.891156</td>\n",
       "      <td>2.729932</td>\n",
       "      <td>2.063946</td>\n",
       "      <td>...</td>\n",
       "      <td>2.712245</td>\n",
       "      <td>80.0</td>\n",
       "      <td>0.793878</td>\n",
       "      <td>11.279592</td>\n",
       "      <td>2.799320</td>\n",
       "      <td>2.761224</td>\n",
       "      <td>7.008163</td>\n",
       "      <td>4.229252</td>\n",
       "      <td>2.187755</td>\n",
       "      <td>4.123129</td>\n",
       "    </tr>\n",
       "    <tr>\n",
       "      <th>std</th>\n",
       "      <td>9.135373</td>\n",
       "      <td>403.509100</td>\n",
       "      <td>8.106864</td>\n",
       "      <td>1.024165</td>\n",
       "      <td>0.0</td>\n",
       "      <td>602.024335</td>\n",
       "      <td>1.093082</td>\n",
       "      <td>20.329428</td>\n",
       "      <td>0.711561</td>\n",
       "      <td>1.106940</td>\n",
       "      <td>...</td>\n",
       "      <td>1.081209</td>\n",
       "      <td>0.0</td>\n",
       "      <td>0.852077</td>\n",
       "      <td>7.780782</td>\n",
       "      <td>1.289271</td>\n",
       "      <td>0.706476</td>\n",
       "      <td>6.126525</td>\n",
       "      <td>3.623137</td>\n",
       "      <td>3.222430</td>\n",
       "      <td>3.568136</td>\n",
       "    </tr>\n",
       "    <tr>\n",
       "      <th>min</th>\n",
       "      <td>18.000000</td>\n",
       "      <td>102.000000</td>\n",
       "      <td>1.000000</td>\n",
       "      <td>1.000000</td>\n",
       "      <td>1.0</td>\n",
       "      <td>1.000000</td>\n",
       "      <td>1.000000</td>\n",
       "      <td>30.000000</td>\n",
       "      <td>1.000000</td>\n",
       "      <td>1.000000</td>\n",
       "      <td>...</td>\n",
       "      <td>1.000000</td>\n",
       "      <td>80.0</td>\n",
       "      <td>0.000000</td>\n",
       "      <td>0.000000</td>\n",
       "      <td>0.000000</td>\n",
       "      <td>1.000000</td>\n",
       "      <td>0.000000</td>\n",
       "      <td>0.000000</td>\n",
       "      <td>0.000000</td>\n",
       "      <td>0.000000</td>\n",
       "    </tr>\n",
       "    <tr>\n",
       "      <th>25%</th>\n",
       "      <td>30.000000</td>\n",
       "      <td>465.000000</td>\n",
       "      <td>2.000000</td>\n",
       "      <td>2.000000</td>\n",
       "      <td>1.0</td>\n",
       "      <td>491.250000</td>\n",
       "      <td>2.000000</td>\n",
       "      <td>48.000000</td>\n",
       "      <td>2.000000</td>\n",
       "      <td>1.000000</td>\n",
       "      <td>...</td>\n",
       "      <td>2.000000</td>\n",
       "      <td>80.0</td>\n",
       "      <td>0.000000</td>\n",
       "      <td>6.000000</td>\n",
       "      <td>2.000000</td>\n",
       "      <td>2.000000</td>\n",
       "      <td>3.000000</td>\n",
       "      <td>2.000000</td>\n",
       "      <td>0.000000</td>\n",
       "      <td>2.000000</td>\n",
       "    </tr>\n",
       "    <tr>\n",
       "      <th>50%</th>\n",
       "      <td>36.000000</td>\n",
       "      <td>802.000000</td>\n",
       "      <td>7.000000</td>\n",
       "      <td>3.000000</td>\n",
       "      <td>1.0</td>\n",
       "      <td>1020.500000</td>\n",
       "      <td>3.000000</td>\n",
       "      <td>66.000000</td>\n",
       "      <td>3.000000</td>\n",
       "      <td>2.000000</td>\n",
       "      <td>...</td>\n",
       "      <td>3.000000</td>\n",
       "      <td>80.0</td>\n",
       "      <td>1.000000</td>\n",
       "      <td>10.000000</td>\n",
       "      <td>3.000000</td>\n",
       "      <td>3.000000</td>\n",
       "      <td>5.000000</td>\n",
       "      <td>3.000000</td>\n",
       "      <td>1.000000</td>\n",
       "      <td>3.000000</td>\n",
       "    </tr>\n",
       "    <tr>\n",
       "      <th>75%</th>\n",
       "      <td>43.000000</td>\n",
       "      <td>1157.000000</td>\n",
       "      <td>14.000000</td>\n",
       "      <td>4.000000</td>\n",
       "      <td>1.0</td>\n",
       "      <td>1555.750000</td>\n",
       "      <td>4.000000</td>\n",
       "      <td>83.750000</td>\n",
       "      <td>3.000000</td>\n",
       "      <td>3.000000</td>\n",
       "      <td>...</td>\n",
       "      <td>4.000000</td>\n",
       "      <td>80.0</td>\n",
       "      <td>1.000000</td>\n",
       "      <td>15.000000</td>\n",
       "      <td>3.000000</td>\n",
       "      <td>3.000000</td>\n",
       "      <td>9.000000</td>\n",
       "      <td>7.000000</td>\n",
       "      <td>3.000000</td>\n",
       "      <td>7.000000</td>\n",
       "    </tr>\n",
       "    <tr>\n",
       "      <th>max</th>\n",
       "      <td>60.000000</td>\n",
       "      <td>1499.000000</td>\n",
       "      <td>29.000000</td>\n",
       "      <td>5.000000</td>\n",
       "      <td>1.0</td>\n",
       "      <td>2068.000000</td>\n",
       "      <td>4.000000</td>\n",
       "      <td>100.000000</td>\n",
       "      <td>4.000000</td>\n",
       "      <td>5.000000</td>\n",
       "      <td>...</td>\n",
       "      <td>4.000000</td>\n",
       "      <td>80.0</td>\n",
       "      <td>3.000000</td>\n",
       "      <td>40.000000</td>\n",
       "      <td>6.000000</td>\n",
       "      <td>4.000000</td>\n",
       "      <td>40.000000</td>\n",
       "      <td>18.000000</td>\n",
       "      <td>15.000000</td>\n",
       "      <td>17.000000</td>\n",
       "    </tr>\n",
       "  </tbody>\n",
       "</table>\n",
       "<p>8 rows × 26 columns</p>\n",
       "</div>"
      ],
      "text/plain": [
       "               Age    DailyRate  DistanceFromHome    Education  EmployeeCount  \\\n",
       "count  1470.000000  1470.000000       1470.000000  1470.000000         1470.0   \n",
       "mean     36.923810   802.485714          9.192517     2.912925            1.0   \n",
       "std       9.135373   403.509100          8.106864     1.024165            0.0   \n",
       "min      18.000000   102.000000          1.000000     1.000000            1.0   \n",
       "25%      30.000000   465.000000          2.000000     2.000000            1.0   \n",
       "50%      36.000000   802.000000          7.000000     3.000000            1.0   \n",
       "75%      43.000000  1157.000000         14.000000     4.000000            1.0   \n",
       "max      60.000000  1499.000000         29.000000     5.000000            1.0   \n",
       "\n",
       "       EmployeeNumber  EnvironmentSatisfaction   HourlyRate  JobInvolvement  \\\n",
       "count     1470.000000              1470.000000  1470.000000     1470.000000   \n",
       "mean      1024.865306                 2.721769    65.891156        2.729932   \n",
       "std        602.024335                 1.093082    20.329428        0.711561   \n",
       "min          1.000000                 1.000000    30.000000        1.000000   \n",
       "25%        491.250000                 2.000000    48.000000        2.000000   \n",
       "50%       1020.500000                 3.000000    66.000000        3.000000   \n",
       "75%       1555.750000                 4.000000    83.750000        3.000000   \n",
       "max       2068.000000                 4.000000   100.000000        4.000000   \n",
       "\n",
       "          JobLevel  ...  RelationshipSatisfaction  StandardHours  \\\n",
       "count  1470.000000  ...               1470.000000         1470.0   \n",
       "mean      2.063946  ...                  2.712245           80.0   \n",
       "std       1.106940  ...                  1.081209            0.0   \n",
       "min       1.000000  ...                  1.000000           80.0   \n",
       "25%       1.000000  ...                  2.000000           80.0   \n",
       "50%       2.000000  ...                  3.000000           80.0   \n",
       "75%       3.000000  ...                  4.000000           80.0   \n",
       "max       5.000000  ...                  4.000000           80.0   \n",
       "\n",
       "       StockOptionLevel  TotalWorkingYears  TrainingTimesLastYear  \\\n",
       "count       1470.000000        1470.000000            1470.000000   \n",
       "mean           0.793878          11.279592               2.799320   \n",
       "std            0.852077           7.780782               1.289271   \n",
       "min            0.000000           0.000000               0.000000   \n",
       "25%            0.000000           6.000000               2.000000   \n",
       "50%            1.000000          10.000000               3.000000   \n",
       "75%            1.000000          15.000000               3.000000   \n",
       "max            3.000000          40.000000               6.000000   \n",
       "\n",
       "       WorkLifeBalance  YearsAtCompany  YearsInCurrentRole  \\\n",
       "count      1470.000000     1470.000000         1470.000000   \n",
       "mean          2.761224        7.008163            4.229252   \n",
       "std           0.706476        6.126525            3.623137   \n",
       "min           1.000000        0.000000            0.000000   \n",
       "25%           2.000000        3.000000            2.000000   \n",
       "50%           3.000000        5.000000            3.000000   \n",
       "75%           3.000000        9.000000            7.000000   \n",
       "max           4.000000       40.000000           18.000000   \n",
       "\n",
       "       YearsSinceLastPromotion  YearsWithCurrManager  \n",
       "count              1470.000000           1470.000000  \n",
       "mean                  2.187755              4.123129  \n",
       "std                   3.222430              3.568136  \n",
       "min                   0.000000              0.000000  \n",
       "25%                   0.000000              2.000000  \n",
       "50%                   1.000000              3.000000  \n",
       "75%                   3.000000              7.000000  \n",
       "max                  15.000000             17.000000  \n",
       "\n",
       "[8 rows x 26 columns]"
      ]
     },
     "execution_count": 29,
     "metadata": {},
     "output_type": "execute_result"
    }
   ],
   "source": [
    "data.describe()"
   ]
  },
  {
   "cell_type": "code",
   "execution_count": 30,
   "id": "b1e4dbc0",
   "metadata": {},
   "outputs": [
    {
     "data": {
      "text/plain": [
       "Age                         False\n",
       "Attrition                   False\n",
       "BusinessTravel              False\n",
       "DailyRate                   False\n",
       "Department                  False\n",
       "DistanceFromHome            False\n",
       "Education                   False\n",
       "EducationField              False\n",
       "EmployeeCount               False\n",
       "EmployeeNumber              False\n",
       "EnvironmentSatisfaction     False\n",
       "Gender                      False\n",
       "HourlyRate                  False\n",
       "JobInvolvement              False\n",
       "JobLevel                    False\n",
       "JobRole                     False\n",
       "JobSatisfaction             False\n",
       "MaritalStatus               False\n",
       "MonthlyIncome               False\n",
       "MonthlyRate                 False\n",
       "NumCompaniesWorked          False\n",
       "Over18                      False\n",
       "OverTime                    False\n",
       "PercentSalaryHike           False\n",
       "PerformanceRating           False\n",
       "RelationshipSatisfaction    False\n",
       "StandardHours               False\n",
       "StockOptionLevel            False\n",
       "TotalWorkingYears           False\n",
       "TrainingTimesLastYear       False\n",
       "WorkLifeBalance             False\n",
       "YearsAtCompany              False\n",
       "YearsInCurrentRole          False\n",
       "YearsSinceLastPromotion     False\n",
       "YearsWithCurrManager        False\n",
       "dtype: bool"
      ]
     },
     "execution_count": 30,
     "metadata": {},
     "output_type": "execute_result"
    }
   ],
   "source": [
    "data.isnull().any()"
   ]
  },
  {
   "cell_type": "code",
   "execution_count": 31,
   "id": "5d3f439f",
   "metadata": {},
   "outputs": [
    {
     "data": {
      "text/plain": [
       "Attrition\n",
       "No     1233\n",
       "Yes     237\n",
       "Name: count, dtype: int64"
      ]
     },
     "execution_count": 31,
     "metadata": {},
     "output_type": "execute_result"
    }
   ],
   "source": [
    "data['Attrition'].value_counts()"
   ]
  },
  {
   "cell_type": "code",
   "execution_count": 32,
   "id": "995991be",
   "metadata": {},
   "outputs": [
    {
     "data": {
      "text/plain": [
       "JobSatisfaction\n",
       "4    459\n",
       "3    442\n",
       "1    289\n",
       "2    280\n",
       "Name: count, dtype: int64"
      ]
     },
     "execution_count": 32,
     "metadata": {},
     "output_type": "execute_result"
    }
   ],
   "source": [
    "data['JobSatisfaction'].value_counts()"
   ]
  },
  {
   "cell_type": "code",
   "execution_count": 33,
   "id": "e3954233",
   "metadata": {},
   "outputs": [
    {
     "data": {
      "text/html": [
       "<div>\n",
       "<style scoped>\n",
       "    .dataframe tbody tr th:only-of-type {\n",
       "        vertical-align: middle;\n",
       "    }\n",
       "\n",
       "    .dataframe tbody tr th {\n",
       "        vertical-align: top;\n",
       "    }\n",
       "\n",
       "    .dataframe thead th {\n",
       "        text-align: right;\n",
       "    }\n",
       "</style>\n",
       "<table border=\"1\" class=\"dataframe\">\n",
       "  <thead>\n",
       "    <tr style=\"text-align: right;\">\n",
       "      <th>JobSatisfaction</th>\n",
       "      <th>1</th>\n",
       "      <th>2</th>\n",
       "      <th>3</th>\n",
       "      <th>4</th>\n",
       "      <th>All</th>\n",
       "    </tr>\n",
       "    <tr>\n",
       "      <th>Attrition</th>\n",
       "      <th></th>\n",
       "      <th></th>\n",
       "      <th></th>\n",
       "      <th></th>\n",
       "      <th></th>\n",
       "    </tr>\n",
       "  </thead>\n",
       "  <tbody>\n",
       "    <tr>\n",
       "      <th>No</th>\n",
       "      <td>223</td>\n",
       "      <td>234</td>\n",
       "      <td>369</td>\n",
       "      <td>407</td>\n",
       "      <td>1233</td>\n",
       "    </tr>\n",
       "    <tr>\n",
       "      <th>Yes</th>\n",
       "      <td>66</td>\n",
       "      <td>46</td>\n",
       "      <td>73</td>\n",
       "      <td>52</td>\n",
       "      <td>237</td>\n",
       "    </tr>\n",
       "    <tr>\n",
       "      <th>All</th>\n",
       "      <td>289</td>\n",
       "      <td>280</td>\n",
       "      <td>442</td>\n",
       "      <td>459</td>\n",
       "      <td>1470</td>\n",
       "    </tr>\n",
       "  </tbody>\n",
       "</table>\n",
       "</div>"
      ],
      "text/plain": [
       "JobSatisfaction    1    2    3    4   All\n",
       "Attrition                                \n",
       "No               223  234  369  407  1233\n",
       "Yes               66   46   73   52   237\n",
       "All              289  280  442  459  1470"
      ]
     },
     "execution_count": 33,
     "metadata": {},
     "output_type": "execute_result"
    }
   ],
   "source": [
    "ct = pd.crosstab(data['Attrition'], data['JobSatisfaction'], margins=True)\n",
    "ct"
   ]
  },
  {
   "cell_type": "markdown",
   "id": "99679f56",
   "metadata": {},
   "source": [
    "Let's make Chi2 test ourselves. Then we would see the ready function in stats"
   ]
  },
  {
   "cell_type": "code",
   "execution_count": 34,
   "id": "201973f8",
   "metadata": {},
   "outputs": [],
   "source": [
    "obs = np.append(ct.iloc[0][: -1].values, ct.iloc[1][: -1].values)"
   ]
  },
  {
   "cell_type": "code",
   "execution_count": 35,
   "id": "7d1432b2",
   "metadata": {},
   "outputs": [
    {
     "data": {
      "text/plain": [
       "JobSatisfaction\n",
       "1      0.180860\n",
       "2      0.189781\n",
       "3      0.299270\n",
       "4      0.330089\n",
       "All    1.000000\n",
       "Name: No, dtype: float64"
      ]
     },
     "execution_count": 35,
     "metadata": {},
     "output_type": "execute_result"
    }
   ],
   "source": [
    "ct.iloc[0] / 1233"
   ]
  },
  {
   "cell_type": "code",
   "execution_count": 36,
   "id": "bb9876cb",
   "metadata": {},
   "outputs": [
    {
     "data": {
      "text/plain": [
       "JobSatisfaction\n",
       "1      0.278481\n",
       "2      0.194093\n",
       "3      0.308017\n",
       "4      0.219409\n",
       "All    1.000000\n",
       "Name: Yes, dtype: float64"
      ]
     },
     "execution_count": 36,
     "metadata": {},
     "output_type": "execute_result"
    }
   ],
   "source": [
    "ct.iloc[1] / 237"
   ]
  },
  {
   "cell_type": "code",
   "execution_count": 37,
   "id": "db62bb71",
   "metadata": {},
   "outputs": [
    {
     "data": {
      "text/plain": [
       "JobSatisfaction\n",
       "1    223\n",
       "2    234\n",
       "3    369\n",
       "4    407\n",
       "Name: No, dtype: int64"
      ]
     },
     "execution_count": 37,
     "metadata": {},
     "output_type": "execute_result"
    }
   ],
   "source": [
    "ct.iloc[0][: -1]"
   ]
  },
  {
   "cell_type": "code",
   "execution_count": 38,
   "id": "0710e6b9",
   "metadata": {},
   "outputs": [
    {
     "data": {
      "text/plain": [
       "JobSatisfaction\n",
       "1     -0.097621\n",
       "2     -0.004312\n",
       "3     -0.008747\n",
       "4      0.110680\n",
       "All    0.000000\n",
       "dtype: float64"
      ]
     },
     "execution_count": 38,
     "metadata": {},
     "output_type": "execute_result"
    }
   ],
   "source": [
    "(ct.iloc[0] / 1233) - (ct.iloc[1] / 237)"
   ]
  },
  {
   "cell_type": "code",
   "execution_count": 39,
   "id": "c58dbffb",
   "metadata": {},
   "outputs": [
    {
     "data": {
      "text/plain": [
       "array([223, 234, 369, 407,  66,  46,  73,  52], dtype=int64)"
      ]
     },
     "execution_count": 39,
     "metadata": {},
     "output_type": "execute_result"
    }
   ],
   "source": [
    "obs"
   ]
  },
  {
   "cell_type": "code",
   "execution_count": 40,
   "id": "0fe5c713",
   "metadata": {},
   "outputs": [
    {
     "data": {
      "text/plain": [
       "array([1233,  237], dtype=int64)"
      ]
     },
     "execution_count": 40,
     "metadata": {},
     "output_type": "execute_result"
    }
   ],
   "source": [
    "row_sum = ct.iloc[0: 2, 4].values\n",
    "row_sum"
   ]
  },
  {
   "cell_type": "code",
   "execution_count": 41,
   "id": "6989c9b3",
   "metadata": {},
   "outputs": [
    {
     "data": {
      "text/plain": [
       "1470"
      ]
     },
     "execution_count": 41,
     "metadata": {},
     "output_type": "execute_result"
    }
   ],
   "source": [
    "ct.loc['All', 'All']"
   ]
  },
  {
   "cell_type": "code",
   "execution_count": 42,
   "id": "3eba95a2",
   "metadata": {},
   "outputs": [
    {
     "name": "stdout",
     "output_type": "stream",
     "text": [
      "289  *  1233  /  1470  =  242.4061224489796\n",
      "280  *  1233  /  1470  =  234.85714285714286\n",
      "442  *  1233  /  1470  =  370.7387755102041\n",
      "459  *  1233  /  1470  =  384.99795918367346\n",
      "289  *  237  /  1470  =  46.593877551020405\n",
      "280  *  237  /  1470  =  45.142857142857146\n",
      "442  *  237  /  1470  =  71.26122448979592\n",
      "459  *  237  /  1470  =  74.00204081632653\n"
     ]
    }
   ],
   "source": [
    "exp = []\n",
    "for j in range(2):\n",
    "    for val in ct.iloc[2, : -1].values:\n",
    "        print(val, ' * ', row_sum[j], ' / ', ct.loc['All', 'All'], ' = ', val * row_sum[j] / ct.loc['All', 'All'])\n",
    "        exp.append(val * row_sum[j] / ct.loc['All', 'All'])"
   ]
  },
  {
   "cell_type": "code",
   "execution_count": 43,
   "id": "77fbeadb",
   "metadata": {},
   "outputs": [
    {
     "data": {
      "text/plain": [
       "[242.4061224489796,\n",
       " 234.85714285714286,\n",
       " 370.7387755102041,\n",
       " 384.99795918367346,\n",
       " 46.593877551020405,\n",
       " 45.142857142857146,\n",
       " 71.26122448979592,\n",
       " 74.00204081632653]"
      ]
     },
     "execution_count": 43,
     "metadata": {},
     "output_type": "execute_result"
    }
   ],
   "source": [
    "exp"
   ]
  },
  {
   "cell_type": "code",
   "execution_count": 44,
   "id": "284adbc0",
   "metadata": {},
   "outputs": [
    {
     "data": {
      "text/plain": [
       "array([289, 280, 442, 459], dtype=int64)"
      ]
     },
     "execution_count": 44,
     "metadata": {},
     "output_type": "execute_result"
    }
   ],
   "source": [
    "ct.iloc[2, : -1].values"
   ]
  },
  {
   "cell_type": "code",
   "execution_count": 45,
   "id": "4d8636a9",
   "metadata": {},
   "outputs": [
    {
     "data": {
      "text/plain": [
       "array([223, 234, 369, 407,  66,  46,  73,  52], dtype=int64)"
      ]
     },
     "execution_count": 45,
     "metadata": {},
     "output_type": "execute_result"
    }
   ],
   "source": [
    "obs"
   ]
  },
  {
   "cell_type": "code",
   "execution_count": 46,
   "id": "92196dae",
   "metadata": {},
   "outputs": [
    {
     "data": {
      "text/plain": [
       "[242.4061224489796,\n",
       " 234.85714285714286,\n",
       " 370.7387755102041,\n",
       " 384.99795918367346,\n",
       " 46.593877551020405,\n",
       " 45.142857142857146,\n",
       " 71.26122448979592,\n",
       " 74.00204081632653]"
      ]
     },
     "execution_count": 46,
     "metadata": {},
     "output_type": "execute_result"
    }
   ],
   "source": [
    "exp"
   ]
  },
  {
   "cell_type": "code",
   "execution_count": 47,
   "id": "0fdc2a25",
   "metadata": {},
   "outputs": [
    {
     "data": {
      "text/plain": [
       "17.505077010348"
      ]
     },
     "execution_count": 47,
     "metadata": {},
     "output_type": "execute_result"
    }
   ],
   "source": [
    "((obs - exp) ** 2 / exp).sum()"
   ]
  },
  {
   "cell_type": "code",
   "execution_count": 48,
   "id": "a0bdb97e",
   "metadata": {},
   "outputs": [
    {
     "data": {
      "text/plain": [
       "3"
      ]
     },
     "execution_count": 48,
     "metadata": {},
     "output_type": "execute_result"
    }
   ],
   "source": [
    "dof = (len(row_sum) - 1) * (len(ct.iloc[2, :-1].values) - 1)\n",
    "dof"
   ]
  },
  {
   "cell_type": "code",
   "execution_count": 49,
   "id": "b4851e81",
   "metadata": {},
   "outputs": [
    {
     "data": {
      "text/plain": [
       "0.000556300451038716"
      ]
     },
     "execution_count": 49,
     "metadata": {},
     "output_type": "execute_result"
    }
   ],
   "source": [
    "# Attrition vs JobSatisfaction\n",
    "1 - stats.chi2.cdf(((obs - exp) ** 2 / exp).sum(), dof)"
   ]
  },
  {
   "cell_type": "markdown",
   "id": "c3ac6ca5",
   "metadata": {},
   "source": [
    "Thats the p-value! it is under 0.05 so they are ralative\n",
    "\n",
    "Now let's see the it's built-in function"
   ]
  },
  {
   "cell_type": "code",
   "execution_count": 50,
   "id": "16456cec",
   "metadata": {},
   "outputs": [
    {
     "data": {
      "text/plain": [
       "array([[223, 234, 369, 407],\n",
       "       [ 66,  46,  73,  52]], dtype=int64)"
      ]
     },
     "execution_count": 50,
     "metadata": {},
     "output_type": "execute_result"
    }
   ],
   "source": [
    "d = np.array([ct.iloc[0][: -1].values, ct.iloc[1][: -1].values])\n",
    "d"
   ]
  },
  {
   "cell_type": "code",
   "execution_count": 51,
   "id": "05f5e847",
   "metadata": {},
   "outputs": [
    {
     "data": {
      "text/plain": [
       "Chi2ContingencyResult(statistic=17.505077010348, pvalue=0.0005563004510387556, dof=3, expected_freq=array([[242.40612245, 234.85714286, 370.73877551, 384.99795918],\n",
       "       [ 46.59387755,  45.14285714,  71.26122449,  74.00204082]]))"
      ]
     },
     "execution_count": 51,
     "metadata": {},
     "output_type": "execute_result"
    }
   ],
   "source": [
    "stats.chi2_contingency(d)"
   ]
  },
  {
   "cell_type": "markdown",
   "id": "a3aeed18",
   "metadata": {},
   "source": [
    "See!!! pvalue=0.0005\n",
    "\n",
    "They have relationship"
   ]
  },
  {
   "cell_type": "code",
   "execution_count": 52,
   "id": "5fbf3cb5",
   "metadata": {},
   "outputs": [
    {
     "data": {
      "text/plain": [
       "Power_divergenceResult(statistic=array([ 85.29065744, 126.22857143, 198.22624434, 274.56427015]), pvalue=array([2.57577384e-20, 2.74031376e-29, 5.09229443e-45, 1.14862090e-61]))"
      ]
     },
     "execution_count": 52,
     "metadata": {},
     "output_type": "execute_result"
    }
   ],
   "source": [
    "from scipy.stats import chisquare\n",
    "chisquare(d)"
   ]
  },
  {
   "cell_type": "code",
   "execution_count": 53,
   "id": "68134bd5",
   "metadata": {},
   "outputs": [
    {
     "data": {
      "text/html": [
       "<div>\n",
       "<style scoped>\n",
       "    .dataframe tbody tr th:only-of-type {\n",
       "        vertical-align: middle;\n",
       "    }\n",
       "\n",
       "    .dataframe tbody tr th {\n",
       "        vertical-align: top;\n",
       "    }\n",
       "\n",
       "    .dataframe thead th {\n",
       "        text-align: right;\n",
       "    }\n",
       "</style>\n",
       "<table border=\"1\" class=\"dataframe\">\n",
       "  <thead>\n",
       "    <tr style=\"text-align: right;\">\n",
       "      <th>Education</th>\n",
       "      <th>1</th>\n",
       "      <th>2</th>\n",
       "      <th>3</th>\n",
       "      <th>4</th>\n",
       "      <th>5</th>\n",
       "      <th>All</th>\n",
       "    </tr>\n",
       "    <tr>\n",
       "      <th>Attrition</th>\n",
       "      <th></th>\n",
       "      <th></th>\n",
       "      <th></th>\n",
       "      <th></th>\n",
       "      <th></th>\n",
       "      <th></th>\n",
       "    </tr>\n",
       "  </thead>\n",
       "  <tbody>\n",
       "    <tr>\n",
       "      <th>No</th>\n",
       "      <td>139</td>\n",
       "      <td>238</td>\n",
       "      <td>473</td>\n",
       "      <td>340</td>\n",
       "      <td>43</td>\n",
       "      <td>1233</td>\n",
       "    </tr>\n",
       "    <tr>\n",
       "      <th>Yes</th>\n",
       "      <td>31</td>\n",
       "      <td>44</td>\n",
       "      <td>99</td>\n",
       "      <td>58</td>\n",
       "      <td>5</td>\n",
       "      <td>237</td>\n",
       "    </tr>\n",
       "    <tr>\n",
       "      <th>All</th>\n",
       "      <td>170</td>\n",
       "      <td>282</td>\n",
       "      <td>572</td>\n",
       "      <td>398</td>\n",
       "      <td>48</td>\n",
       "      <td>1470</td>\n",
       "    </tr>\n",
       "  </tbody>\n",
       "</table>\n",
       "</div>"
      ],
      "text/plain": [
       "Education    1    2    3    4   5   All\n",
       "Attrition                              \n",
       "No         139  238  473  340  43  1233\n",
       "Yes         31   44   99   58   5   237\n",
       "All        170  282  572  398  48  1470"
      ]
     },
     "execution_count": 53,
     "metadata": {},
     "output_type": "execute_result"
    }
   ],
   "source": [
    "# Attrition and Education\n",
    "ct = pd.crosstab(data['Attrition'], data['Education'], margins=True)\n",
    "ct"
   ]
  },
  {
   "cell_type": "code",
   "execution_count": 54,
   "id": "048fc88d",
   "metadata": {},
   "outputs": [
    {
     "data": {
      "text/plain": [
       "array([[139, 238, 473, 340,  43],\n",
       "       [ 31,  44,  99,  58,   5]], dtype=int64)"
      ]
     },
     "execution_count": 54,
     "metadata": {},
     "output_type": "execute_result"
    }
   ],
   "source": [
    "d = np.array([ct.iloc[0][: -1].values, ct.iloc[1][: -1].values])\n",
    "d"
   ]
  },
  {
   "cell_type": "code",
   "execution_count": 55,
   "id": "05d7c54b",
   "metadata": {},
   "outputs": [
    {
     "data": {
      "text/plain": [
       "Chi2ContingencyResult(statistic=3.0739613982367193, pvalue=0.5455253376565949, dof=4, expected_freq=array([[142.59183673, 236.53469388, 479.77959184, 333.83265306,\n",
       "         40.26122449],\n",
       "       [ 27.40816327,  45.46530612,  92.22040816,  64.16734694,\n",
       "          7.73877551]]))"
      ]
     },
     "execution_count": 55,
     "metadata": {},
     "output_type": "execute_result"
    }
   ],
   "source": [
    "stats.chi2_contingency(d)"
   ]
  },
  {
   "cell_type": "markdown",
   "id": "f8561ddf",
   "metadata": {},
   "source": [
    "pvalue=0.54\n",
    "\n",
    "Oh! it's a large number! So these two means `Attrition` and `Education` does not have a really noticable relationship!"
   ]
  },
  {
   "cell_type": "markdown",
   "id": "36f43e8a",
   "metadata": {},
   "source": [
    "<div style=\" padding: 40px; text-align: left; color: #535453;\">\n",
    "    Notebook by:\n",
    "    <h2 style=\"font-family: 'calibri', sans-serif;ext-align: center;  font-size: 50px; margin-top: 0; margin-bottom: 20px;\">\n",
    "    Elyas Najafi\n",
    "    </h2>\n",
    "</div>"
   ]
  }
 ],
 "metadata": {
  "kernelspec": {
   "display_name": "Python 3 (ipykernel)",
   "language": "python",
   "name": "python3"
  },
  "language_info": {
   "codemirror_mode": {
    "name": "ipython",
    "version": 3
   },
   "file_extension": ".py",
   "mimetype": "text/x-python",
   "name": "python",
   "nbconvert_exporter": "python",
   "pygments_lexer": "ipython3",
   "version": "3.11.5"
  }
 },
 "nbformat": 4,
 "nbformat_minor": 5
}
